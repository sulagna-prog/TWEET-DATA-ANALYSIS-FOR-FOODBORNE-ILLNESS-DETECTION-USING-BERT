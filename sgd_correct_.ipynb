{
 "cells": [
  {
   "cell_type": "code",
   "execution_count": 1,
   "metadata": {
    "id": "lvIhKIa08IRb"
   },
   "outputs": [],
   "source": [
    "import pandas as pd\n",
    "import numpy as np\n",
    "import matplotlib.pyplot as plt\n",
    "import seaborn as sns"
   ]
  },
  {
   "cell_type": "code",
   "execution_count": 2,
   "metadata": {
    "colab": {
     "base_uri": "https://localhost:8080/",
     "height": 262
    },
    "id": "jW8L2D9D8ROk",
    "outputId": "4be6b810-9fd2-4a58-a0ba-b9ce527d3124"
   },
   "outputs": [
    {
     "data": {
      "text/html": [
       "<div>\n",
       "<style scoped>\n",
       "    .dataframe tbody tr th:only-of-type {\n",
       "        vertical-align: middle;\n",
       "    }\n",
       "\n",
       "    .dataframe tbody tr th {\n",
       "        vertical-align: top;\n",
       "    }\n",
       "\n",
       "    .dataframe thead th {\n",
       "        text-align: right;\n",
       "    }\n",
       "</style>\n",
       "<table border=\"1\" class=\"dataframe\">\n",
       "  <thead>\n",
       "    <tr style=\"text-align: right;\">\n",
       "      <th></th>\n",
       "      <th>Name</th>\n",
       "      <th>Rating</th>\n",
       "      <th>Tweet</th>\n",
       "      <th>cuisines</th>\n",
       "      <th>Sentiment</th>\n",
       "      <th>Current_Rating</th>\n",
       "    </tr>\n",
       "  </thead>\n",
       "  <tbody>\n",
       "    <tr>\n",
       "      <th>0</th>\n",
       "      <td>Sandwich Shop</td>\n",
       "      <td>3.5</td>\n",
       "      <td>Average safe food. Not got ill. #FOODSAFE</td>\n",
       "      <td>North Indian, European, Mediterranean, BBQ, Kebab</td>\n",
       "      <td>1</td>\n",
       "      <td>3.5</td>\n",
       "    </tr>\n",
       "    <tr>\n",
       "      <th>1</th>\n",
       "      <td>Sandwich Shop</td>\n",
       "      <td>2.8</td>\n",
       "      <td>Chicken inside the sandwich was #rotten and wa...</td>\n",
       "      <td>North Indian, European, Mediterranean, BBQ, Kebab</td>\n",
       "      <td>1</td>\n",
       "      <td>2.8</td>\n",
       "    </tr>\n",
       "    <tr>\n",
       "      <th>2</th>\n",
       "      <td>Sandwich Shop</td>\n",
       "      <td>4.0</td>\n",
       "      <td>#SouthIndian sambhar tasted fantastic. Got eas...</td>\n",
       "      <td>North Indian, European, Mediterranean, BBQ, Kebab</td>\n",
       "      <td>1</td>\n",
       "      <td>4.0</td>\n",
       "    </tr>\n",
       "    <tr>\n",
       "      <th>3</th>\n",
       "      <td>Sandwich Shop</td>\n",
       "      <td>2.0</td>\n",
       "      <td>#VEGMEAL took life of 5 children. #FOODSAFETY</td>\n",
       "      <td>North Indian, European, Mediterranean, BBQ, Kebab</td>\n",
       "      <td>0</td>\n",
       "      <td>2.0</td>\n",
       "    </tr>\n",
       "    <tr>\n",
       "      <th>4</th>\n",
       "      <td>San Churro Cafe</td>\n",
       "      <td>3.2</td>\n",
       "      <td>#SouthIndian bada caused me #StomachAche and #...</td>\n",
       "      <td>North Indian, European, Mediterranean, BBQ, Kebab</td>\n",
       "      <td>1</td>\n",
       "      <td>3.2</td>\n",
       "    </tr>\n",
       "  </tbody>\n",
       "</table>\n",
       "</div>"
      ],
      "text/plain": [
       "              Name  Rating                                              Tweet  \\\n",
       "0    Sandwich Shop     3.5          Average safe food. Not got ill. #FOODSAFE   \n",
       "1    Sandwich Shop     2.8  Chicken inside the sandwich was #rotten and wa...   \n",
       "2    Sandwich Shop     4.0  #SouthIndian sambhar tasted fantastic. Got eas...   \n",
       "3    Sandwich Shop     2.0      #VEGMEAL took life of 5 children. #FOODSAFETY   \n",
       "4  San Churro Cafe     3.2  #SouthIndian bada caused me #StomachAche and #...   \n",
       "\n",
       "                                            cuisines  Sentiment  \\\n",
       "0  North Indian, European, Mediterranean, BBQ, Kebab          1   \n",
       "1  North Indian, European, Mediterranean, BBQ, Kebab          1   \n",
       "2  North Indian, European, Mediterranean, BBQ, Kebab          1   \n",
       "3  North Indian, European, Mediterranean, BBQ, Kebab          0   \n",
       "4  North Indian, European, Mediterranean, BBQ, Kebab          1   \n",
       "\n",
       "   Current_Rating  \n",
       "0             3.5  \n",
       "1             2.8  \n",
       "2             4.0  \n",
       "3             2.0  \n",
       "4             3.2  "
      ]
     },
     "execution_count": 2,
     "metadata": {},
     "output_type": "execute_result"
    }
   ],
   "source": [
    "import pandas as pd\n",
    "import io\n",
    "df = pd.read_csv('Restaurant.csv',usecols=['Name','Rating','Tweet','cuisines','Sentiment','Current_Rating'] )\n",
    "df.head()"
   ]
  },
  {
   "cell_type": "code",
   "execution_count": 3,
   "metadata": {
    "colab": {
     "base_uri": "https://localhost:8080/"
    },
    "id": "vy3piX-H8YCA",
    "outputId": "7821849c-b2e8-4505-fc8c-fba3e15cca00"
   },
   "outputs": [
    {
     "data": {
      "text/plain": [
       "(3013, 6)"
      ]
     },
     "execution_count": 3,
     "metadata": {},
     "output_type": "execute_result"
    }
   ],
   "source": [
    "df.shape"
   ]
  },
  {
   "cell_type": "code",
   "execution_count": 16,
   "metadata": {
    "colab": {
     "base_uri": "https://localhost:8080/"
    },
    "id": "01RAd8MS8ajR",
    "outputId": "b35201d7-f426-43cc-f1e3-cc28224a8f76"
   },
   "outputs": [
    {
     "name": "stdout",
     "output_type": "stream",
     "text": [
      "<class 'pandas.core.frame.DataFrame'>\n",
      "RangeIndex: 3013 entries, 0 to 3012\n",
      "Data columns (total 6 columns):\n",
      " #   Column          Non-Null Count  Dtype  \n",
      "---  ------          --------------  -----  \n",
      " 0   Name            3013 non-null   object \n",
      " 1   Rating          3013 non-null   float64\n",
      " 2   Tweet           3013 non-null   object \n",
      " 3   cuisines        2835 non-null   object \n",
      " 4   Sentiment       3013 non-null   int64  \n",
      " 5   Current_Rating  3013 non-null   float64\n",
      "dtypes: float64(2), int64(1), object(3)\n",
      "memory usage: 141.4+ KB\n"
     ]
    }
   ],
   "source": [
    "df.info()"
   ]
  },
  {
   "cell_type": "code",
   "execution_count": 17,
   "metadata": {
    "id": "_FiQb3Gn8cji"
   },
   "outputs": [],
   "source": [
    "x=df.Tweet\n",
    "y=df.Sentiment"
   ]
  },
  {
   "cell_type": "code",
   "execution_count": 18,
   "metadata": {
    "id": "8YqaKo918en2"
   },
   "outputs": [],
   "source": [
    "from sklearn.model_selection import train_test_split\n",
    "\n",
    "X_train, X_test, y_train, y_test = train_test_split(x, y, test_size=0.2, random_state = True)"
   ]
  },
  {
   "cell_type": "code",
   "execution_count": 19,
   "metadata": {
    "colab": {
     "base_uri": "https://localhost:8080/"
    },
    "id": "Qj0Itnyk8hnK",
    "outputId": "2fef1d09-c50e-40bf-e0d7-8861ba297472"
   },
   "outputs": [
    {
     "data": {
      "text/plain": [
       "scipy.sparse._csr.csr_matrix"
      ]
     },
     "execution_count": 19,
     "metadata": {},
     "output_type": "execute_result"
    }
   ],
   "source": [
    "from sklearn.feature_extraction.text import CountVectorizer\n",
    "\n",
    "vect = CountVectorizer()\n",
    "\n",
    "X_train_sparse = vect.fit_transform(X_train)\n",
    "X_test_sparse = vect.transform(X_test)\n",
    "type(X_train_sparse)"
   ]
  },
  {
   "cell_type": "code",
   "execution_count": 20,
   "metadata": {
    "colab": {
     "base_uri": "https://localhost:8080/"
    },
    "id": "4QybnAQG8jdR",
    "outputId": "28041136-913e-4759-ca9a-23ed98054e67"
   },
   "outputs": [
    {
     "data": {
      "text/plain": [
       "(2410, 1320)"
      ]
     },
     "execution_count": 20,
     "metadata": {},
     "output_type": "execute_result"
    }
   ],
   "source": [
    "X_train_sparse.shape"
   ]
  },
  {
   "cell_type": "code",
   "execution_count": 21,
   "metadata": {
    "id": "vFZAz_PC8nWK"
   },
   "outputs": [],
   "source": [
    "from sklearn.linear_model import SGDClassifier\n",
    "\n",
    "classifier = SGDClassifier()\n",
    "\n",
    "classifier.fit(X_train_sparse, y_train)\n",
    "\n",
    "predicted_score = classifier.predict(X_test_sparse)"
   ]
  },
  {
   "cell_type": "code",
   "execution_count": 22,
   "metadata": {
    "colab": {
     "base_uri": "https://localhost:8080/"
    },
    "id": "Wwhlpz7F8sYv",
    "outputId": "a2020caa-6b8d-424a-cc36-5a908831fd65"
   },
   "outputs": [
    {
     "data": {
      "text/plain": [
       "array([1, 0, 0, 0, 0, 1, 0, 0, 0, 1, 1, 0, 1, 1, 0, 1, 0, 1, 0, 1, 0, 1,\n",
       "       1, 1, 1, 0, 0, 0, 1, 1, 1, 1, 0, 1, 0, 1, 0, 0, 1, 1, 1, 1, 1, 1,\n",
       "       1, 0, 0, 1, 0, 1, 1, 1, 0, 0, 0, 0, 0, 1, 1, 1, 1, 0, 1, 1, 0, 1,\n",
       "       0, 0, 0, 1, 1, 1, 1, 1, 1, 0, 1, 0, 0, 0, 1, 1, 1, 0, 1, 0, 1, 1,\n",
       "       0, 0, 0, 0, 0, 1, 0, 1, 0, 1, 0, 1, 0, 1, 0, 1, 1, 1, 1, 0, 0, 1,\n",
       "       1, 1, 0, 1, 1, 0, 1, 1, 0, 1, 1, 1, 1, 1, 1, 1, 1, 1, 1, 0, 0, 1,\n",
       "       0, 1, 1, 1, 1, 1, 0, 1, 1, 0, 1, 0, 1, 1, 0, 1, 0, 1, 0, 1, 0, 0,\n",
       "       1, 1, 1, 0, 0, 1, 1, 1, 1, 1, 0, 0, 1, 0, 1, 1, 0, 0, 1, 1, 1, 1,\n",
       "       1, 0, 1, 0, 1, 0, 0, 1, 1, 0, 1, 1, 0, 0, 1, 1, 0, 0, 1, 1, 0, 1,\n",
       "       0, 1, 0, 1, 1, 0, 0, 0, 1, 0, 1, 0, 1, 0, 0, 0, 0, 1, 1, 1, 1, 1,\n",
       "       0, 1, 1, 0, 0, 0, 0, 0, 0, 1, 1, 1, 1, 1, 1, 1, 0, 1, 0, 1, 0, 0,\n",
       "       1, 1, 0, 0, 1, 0, 0, 1, 1, 0, 0, 1, 0, 0, 0, 1, 0, 1, 1, 1, 1, 0,\n",
       "       1, 0, 1, 1, 0, 0, 1, 1, 1, 1, 0, 1, 1, 1, 1, 0, 1, 1, 1, 0, 0, 1,\n",
       "       1, 0, 1, 0, 0, 0, 0, 1, 1, 1, 1, 0, 1, 0, 1, 1, 0, 1, 0, 1, 0, 0,\n",
       "       0, 1, 1, 1, 1, 1, 1, 0, 1, 0, 1, 0, 1, 0, 1, 1, 0, 1, 1, 1, 1, 1,\n",
       "       0, 0, 1, 0, 0, 0, 0, 0, 1, 1, 1, 0, 1, 1, 0, 1, 1, 1, 0, 1, 0, 1,\n",
       "       1, 1, 1, 0, 0, 1, 0, 0, 0, 1, 0, 0, 1, 0, 1, 0, 0, 0, 0, 1, 1, 1,\n",
       "       0, 0, 0, 0, 0, 0, 0, 0, 1, 1, 0, 0, 0, 1, 1, 1, 1, 0, 1, 1, 0, 1,\n",
       "       0, 1, 0, 1, 1, 0, 1, 0, 1, 1, 1, 0, 0, 1, 0, 0, 0, 1, 0, 1, 0, 1,\n",
       "       0, 1, 1, 0, 0, 1, 0, 1, 0, 1, 1, 0, 0, 0, 1, 1, 1, 1, 0, 1, 0, 0,\n",
       "       1, 1, 0, 0, 1, 1, 0, 0, 0, 0, 0, 1, 1, 1, 1, 1, 0, 0, 0, 1, 1, 0,\n",
       "       1, 1, 1, 0, 1, 0, 0, 0, 1, 0, 1, 1, 1, 0, 0, 1, 1, 0, 0, 0, 1, 0,\n",
       "       1, 1, 1, 0, 1, 1, 0, 1, 1, 1, 0, 0, 1, 0, 1, 0, 0, 0, 0, 1, 1, 0,\n",
       "       0, 0, 0, 1, 1, 0, 1, 0, 1, 0, 0, 1, 1, 0, 0, 1, 1, 1, 1, 0, 0, 0,\n",
       "       1, 1, 0, 1, 0, 1, 0, 1, 0, 1, 1, 1, 1, 0, 0, 1, 1, 1, 0, 0, 0, 0,\n",
       "       1, 1, 1, 0, 0, 0, 1, 0, 0, 1, 0, 0, 0, 0, 1, 1, 1, 1, 1, 1, 0, 1,\n",
       "       0, 0, 1, 0, 0, 1, 1, 1, 1, 1, 0, 1, 1, 0, 0, 1, 1, 0, 0, 1, 1, 0,\n",
       "       0, 0, 1, 0, 1, 1, 1, 0, 0], dtype=int64)"
      ]
     },
     "execution_count": 22,
     "metadata": {},
     "output_type": "execute_result"
    }
   ],
   "source": [
    "predicted_score"
   ]
  },
  {
   "cell_type": "code",
   "execution_count": 23,
   "metadata": {
    "colab": {
     "base_uri": "https://localhost:8080/"
    },
    "id": "bMJsf6G48vTz",
    "outputId": "3fd9d509-5987-4665-c8a5-51d7f3dea06c"
   },
   "outputs": [
    {
     "name": "stdout",
     "output_type": "stream",
     "text": [
      "good food\n",
      "positive Statement\n"
     ]
    }
   ],
   "source": [
    "def predict_sgd():\n",
    " from sklearn.linear_model import SGDClassifier\n",
    " classifier = SGDClassifier()\n",
    " classifier.fit(X_train_sparse, y_train)\n",
    " x=input()\n",
    " X_test=[]\n",
    " X_test.append(x)\n",
    " X_test_sparse = vect.transform(X_test)\n",
    " predicted_score = classifier.predict(X_test_sparse)\n",
    " if(predicted_score[0]==1):\n",
    "   print('positive Statement')\n",
    " else:\n",
    "   print('Negative Statement')\n",
    "predict_sgd()"
   ]
  },
  {
   "cell_type": "code",
   "execution_count": 24,
   "metadata": {
    "colab": {
     "base_uri": "https://localhost:8080/"
    },
    "id": "nMNOFush8xVj",
    "outputId": "96dbd7ab-aaf7-4724-aae3-e4a27df8a429"
   },
   "outputs": [
    {
     "data": {
      "text/plain": [
       "96.6832504145937"
      ]
     },
     "execution_count": 24,
     "metadata": {},
     "output_type": "execute_result"
    }
   ],
   "source": [
    "from sklearn import metrics\n",
    "\n",
    "metrics.accuracy_score(y_test, predicted_score)*100"
   ]
  },
  {
   "cell_type": "code",
   "execution_count": 25,
   "metadata": {
    "colab": {
     "base_uri": "https://localhost:8080/"
    },
    "id": "dWlYI48d80dk",
    "outputId": "f2171db5-d895-4b1a-ad4d-8bf6abc2e3fb"
   },
   "outputs": [
    {
     "name": "stdout",
     "output_type": "stream",
     "text": [
      "              precision    recall  f1-score   support\n",
      "\n",
      "           0       0.95      0.97      0.96       269\n",
      "           1       0.98      0.96      0.97       334\n",
      "\n",
      "    accuracy                           0.97       603\n",
      "   macro avg       0.97      0.97      0.97       603\n",
      "weighted avg       0.97      0.97      0.97       603\n",
      "\n"
     ]
    }
   ],
   "source": [
    "from sklearn.metrics import classification_report\n",
    "print(classification_report(y_test,predicted_score ))"
   ]
  },
  {
   "cell_type": "code",
   "execution_count": 26,
   "metadata": {
    "colab": {
     "base_uri": "https://localhost:8080/",
     "height": 450
    },
    "id": "XJONHIZ783Ib",
    "outputId": "d863bb49-865c-4fb3-d694-3eba4fbfe387"
   },
   "outputs": [
    {
     "data": {
      "image/png": "[encoded data removed]",
      "text/plain": [
       "<Figure size 1000x500 with 1 Axes>"
      ]
     },
     "metadata": {},
     "output_type": "display_data"
    }
   ],
   "source": [
    "from sklearn.metrics import classification_report\n",
    "report = classification_report(y_test, predicted_score, output_dict=True )\n",
    "macro_precision=  report['macro avg']['precision'] \n",
    "macro_recall = report['macro avg']['recall']    \n",
    "macro_f1 = report['macro avg']['f1-score']\n",
    "accuracy = report['accuracy']\n",
    "from sklearn.metrics import precision_recall_fscore_support as score\n",
    "data = {'Precision':macro_precision, 'recall':macro_recall, 'f1score':macro_f1,'accuracy':accuracy}\n",
    "courses = list(data.keys())\n",
    "values = list(data.values())\n",
    "fig = plt.figure(figsize = (10, 5))\n",
    "plt.bar(courses, values, color ='maroon',width = 0.2)\n",
    "plt.show()"
   ]
  },
  {
   "cell_type": "code",
   "execution_count": 28,
   "metadata": {
    "colab": {
     "base_uri": "https://localhost:8080/",
     "height": 507
    },
    "id": "G8zqATkG85NZ",
    "outputId": "46e4a610-d3af-4590-88ff-aea1be1be8ec"
   },
   "outputs": [
    {
     "data": {
      "image/png": "[encoded data removed]",
      "text/plain": [
       "<Figure size 500x500 with 1 Axes>"
      ]
     },
     "metadata": {},
     "output_type": "display_data"
    }
   ],
   "source": [
    "from sklearn.preprocessing import StandardScaler\n",
    "from sklearn.svm import SVC\n",
    "from sklearn.metrics import confusion_matrix\n",
    "from sklearn.metrics import precision_score, recall_score, f1_score, accuracy_score\n",
    "import matplotlib.pyplot as plt\n",
    "conf_matrix = confusion_matrix(y_true=y_test, y_pred=predicted_score)\n",
    "fig, ax = plt.subplots(figsize=(5, 5))\n",
    "ax.matshow(conf_matrix, cmap=plt.cm.Oranges, alpha=0.3)\n",
    "for i in range(conf_matrix.shape[0]):\n",
    "    for j in range(conf_matrix.shape[1]):\n",
    "        ax.text(x=j, y=i,s=conf_matrix[i, j], va='center', ha='center', size='xx-large')\n",
    "plt.xlabel('Predictions', fontsize=18)\n",
    "plt.ylabel('Actuals', fontsize=18)\n",
    "plt.title('Confusion Matrix', fontsize=18)\n",
    "plt.show()"
   ]
  }
 ],
 "metadata": {
  "colab": {
   "provenance": []
  },
  "kernelspec": {
   "display_name": "Python 3 (ipykernel)",
   "language": "python",
   "name": "python3"
  },
  "language_info": {
   "codemirror_mode": {
    "name": "ipython",
    "version": 3
   },
   "file_extension": ".py",
   "mimetype": "text/x-python",
   "name": "python",
   "nbconvert_exporter": "python",
   "pygments_lexer": "ipython3",
   "version": "3.10.6"
  }
 },
 "nbformat": 4,
 "nbformat_minor": 1
}
